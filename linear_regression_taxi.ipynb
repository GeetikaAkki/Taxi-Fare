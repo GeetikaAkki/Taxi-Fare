{
 "cells": [
  {
   "cell_type": "code",
   "execution_count": null,
   "id": "c0ca300a",
   "metadata": {},
   "outputs": [],
   "source": [
    "%pip install keras plotly\n"
   ]
  },
  {
   "cell_type": "code",
   "execution_count": null,
   "id": "b5fdd183",
   "metadata": {},
   "outputs": [],
   "source": [
    "%pip install keras --upgrade\n"
   ]
  },
  {
   "cell_type": "code",
   "execution_count": null,
   "id": "35bc927c",
   "metadata": {},
   "outputs": [],
   "source": [
    "from io import StringIO\n",
    "from numpy import array, arange, linspace, mean, std  \n",
    "from pandas import DataFrame, read_csv  \n",
    "from keras.models import Sequential  \n",
    "from keras.layers import Dense \n",
    "from plotly.express import scatter, bar, line  \n",
    "from plotly.subplots import make_subplots\n",
    "from plotly.graph_objects import Figure, Scatter, Bar  \n",
    "from seaborn import heatmap, pairplot  \n",
    "import pandas as pd\n"
   ]
  },
  {
   "cell_type": "code",
   "execution_count": null,
   "id": "f3ae76b5",
   "metadata": {},
   "outputs": [],
   "source": [
    "chicago_taxi_dataset = pd.read_csv(\"https://download.mlcc.google.com/mledu-datasets/chicago_taxi_train.csv\")"
   ]
  },
  {
   "cell_type": "code",
   "execution_count": null,
   "id": "53e9f180",
   "metadata": {},
   "outputs": [],
   "source": [
    "training_df = chicago_taxi_dataset[['TRIP_MILES', 'TRIP_SECONDS', 'FARE', 'COMPANY', 'PAYMENT_TYPE', 'TIP_RATE']]\n",
    "\n",
    "print('Read dataset completed successfully.')\n",
    "print('Total number of rows: {0}\\n\\n'.format(len(training_df.index)))\n",
    "training_df.head(200)"
   ]
  },
  {
   "cell_type": "code",
   "execution_count": null,
   "id": "d666193d",
   "metadata": {},
   "outputs": [],
   "source": [
    "print('Total number of rows: {0}\\n\\n'.format(len(training_df.index)))\n",
    "training_df.describe(include='all')"
   ]
  },
  {
   "cell_type": "code",
   "execution_count": null,
   "id": "8d83fed5",
   "metadata": {},
   "outputs": [],
   "source": [
    "\n",
    "max_fare = training_df['FARE'].max()\n",
    "print(\"What is the maximum fare? \\t\\t\\t\\tAnswer: ${fare:.2f}\".format(fare = max_fare))\n",
    "\n",
    "mean_distance = training_df['TRIP_MILES'].mean()\n",
    "print(\"What is the mean distance across all trips? \\t\\tAnswer: {mean:.4f} miles\".format(mean = mean_distance))\n",
    "\n",
    "num_unique_companies =  training_df['COMPANY'].nunique()\n",
    "print(\"How many cab companies are in the dataset? \\t\\tAnswer: {number}\".format(number = num_unique_companies))\n",
    "\n",
    "most_freq_payment_type = training_df['PAYMENT_TYPE'].value_counts().idxmax()\n",
    "print(\"What is the most frequent payment type? \\t\\tAnswer: {type}\".format(type = most_freq_payment_type))\n",
    "\n",
    "missing_values = training_df.isnull().sum().sum()\n",
    "print(\"Are any features missing data? \\t\\t\\t\\tAnswer:\", \"No\" if missing_values == 0 else \"Yes\")\n"
   ]
  },
  {
   "cell_type": "markdown",
   "id": "15d15c34",
   "metadata": {},
   "source": []
  }
 ],
 "metadata": {
  "kernelspec": {
   "display_name": "Python 3",
   "language": "python",
   "name": "python3"
  },
  "language_info": {
   "codemirror_mode": {
    "name": "ipython",
    "version": 3
   },
   "file_extension": ".py",
   "mimetype": "text/x-python",
   "name": "python",
   "nbconvert_exporter": "python",
   "pygments_lexer": "ipython3",
   "version": "3.9.13"
  }
 },
 "nbformat": 4,
 "nbformat_minor": 5
}
