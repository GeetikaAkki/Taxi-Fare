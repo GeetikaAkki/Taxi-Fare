{
 "cells": [
  {
   "cell_type": "code",
   "execution_count": null,
   "id": "c0ca300a",
   "metadata": {},
   "outputs": [],
   "source": [
    "%pip install keras plotly\n"
   ]
  },
  {
   "cell_type": "code",
   "execution_count": null,
   "id": "b5fdd183",
   "metadata": {},
   "outputs": [],
   "source": [
    "%pip install keras --upgrade\n"
   ]
  },
  {
   "cell_type": "code",
   "execution_count": null,
   "id": "35bc927c",
   "metadata": {},
   "outputs": [],
   "source": [
    "from io import StringIO\n",
    "from numpy import array, arange, linspace, mean, std  \n",
    "from pandas import DataFrame, read_csv  \n",
    "from keras.models import Sequential  \n",
    "from keras.layers import Dense \n",
    "from plotly.express import scatter, bar, line  \n",
    "from plotly.subplots import make_subplots\n",
    "from plotly.graph_objects import Figure, Scatter, Bar  \n",
    "from seaborn import heatmap, pairplot  \n",
    "import pandas as pd\n"
   ]
  },
  {
   "cell_type": "code",
   "execution_count": null,
   "id": "f3ae76b5",
   "metadata": {},
   "outputs": [],
   "source": [
    "chicago_taxi_dataset = pd.read_csv(\"https://download.mlcc.google.com/mledu-datasets/chicago_taxi_train.csv\")"
   ]
  },
  {
   "cell_type": "code",
   "execution_count": null,
   "id": "53e9f180",
   "metadata": {},
   "outputs": [],
   "source": [
    "training_df = chicago_taxi_dataset[['TRIP_MILES', 'TRIP_SECONDS', 'FARE', 'COMPANY', 'PAYMENT_TYPE', 'TIP_RATE']]\n",
    "\n",
    "print('Read dataset completed successfully.')\n",
    "print('Total number of rows: {0}\\n\\n'.format(len(training_df.index)))\n",
    "training_df.head(200)"
   ]
  },
  {
   "cell_type": "markdown",
   "id": "15d15c34",
   "metadata": {},
   "source": []
  }
 ],
 "metadata": {
  "kernelspec": {
   "display_name": "Python 3",
   "language": "python",
   "name": "python3"
  },
  "language_info": {
   "codemirror_mode": {
    "name": "ipython",
    "version": 3
   },
   "file_extension": ".py",
   "mimetype": "text/x-python",
   "name": "python",
   "nbconvert_exporter": "python",
   "pygments_lexer": "ipython3",
   "version": "3.9.13"
  }
 },
 "nbformat": 4,
 "nbformat_minor": 5
}
